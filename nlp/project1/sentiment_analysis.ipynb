{
 "cells": [
  {
   "cell_type": "markdown",
   "metadata": {},
   "source": [
    "# Sentiment Analysis\n",
    "\n",
    "Name: Dragon Xu \n"
   ]
  },
  {
   "cell_type": "markdown",
   "metadata": {},
   "source": [
    "### [Problem 1] Basic Text Analysis [45 pts]\n",
    "\n",
    "This problem involves a mix of Python review (loops, conditionals, counters/dictionaries, sorting) and learning to work with a sizable collection of text data.\n",
    "\n",
    "You will be looking at a phenomenon of \"natural languages\" (i.e., human languages, such as English) called *Zipf's law*, which relates how frequently a word occurs in a language to its \"rank\" (the word with rank 1 is the most frequently occurring word, the word with rank 2 is the second most frequently occurring word, etc). Roughly speaking, the word with rank 1 appears twice as likely as the word with rank 2, and the three times as likely as the word with rank 3, and so forth. (Some details on Zipf's law can be found on [Wikipedia](https://en.wikipedia.org/wiki/Zipf%27s_law).) In this problem, you are going to check whether Zipf's law holds for a real dataset of text documents.\n",
    "\n",
    "The dataset we look at is a collection of the 100 most popular books downloaded from the [Gutenburg Project](https://www.gutenberg.org/browse/scores/top). These 100 books form the corpus that we consider for this problem. Each file contains the text of a book. We will read in all 100 books.\n",
    "\n",
    "Hint: To list all files that match a certain pattern, you can use the `glob` package. Here's an example usage:\n",
    "\n",
    "```python\n",
    "import glob\n",
    "print(glob.glob('./HW1_Dataset/*.txt'))\n",
    "```\n",
    "\n",
    "**(a) Warm-up/basic Python review [15 pts across subparts].** This part serves as a warm-up, getting you familiar with the kind of code we will be writing in this class. Note that throughout part (a), your code should **not** be using spaCy.\n",
    "\n",
    "**Subpart i [5 pts].** Write a loop that iterates through all 100 books; for each book, print out its corresponding file name and also how long the book is in terms of string length (meaning that if we load in the book as a string, we compute the length of the string using the built-in Python function `len`; this is just counting the number of characters).\n",
    "\n",
    "**Please do not actually print out the contents of each book since many of the books are extremely long, and by printing out all the books' contents, you'll end up creating a Jupyter notebook that has a massive file size (and when you save it as a PDF, the PDF will have a crazy number of pages).**\n",
    "\n",
    "Hint: When debugging your code, you may want to first make sure your code runs on a few of the books rather than all 100 (for example, you can start by only having 3 of the text files in `HW1_Dataset`). Once you're confident that your solution is correct on a few text files, then run on all of them! This is a standard approach to debugging code that is meant to handle large datasets.\n",
    "\n",
    "Your output should look like (although there should be 100 books rather than 3 as shown below; also, the ordering of the books might be different on your machine):\n",
    "\n",
    "```\n",
    "./HW1_Dataset/War and Peace by graf Leo Tolstoy (251).txt 3227580\n",
    "./HW1_Dataset/Democracy in America — Volume 1 by Alexis de Tocqueville (147).txt 1148435\n",
    "./HW1_Dataset/Frankenstein; Or, The Modern Prometheus by Mary Wollstonecraft Shelley (501).txt 441034\n",
    "```"
   ]
  },
  {
   "cell_type": "code",
   "execution_count": 45,
   "metadata": {},
   "outputs": [
    {
     "name": "stdout",
     "output_type": "stream",
     "text": [
      "HW1_Dataset\\A Christmas Carol in Prose; Being a Ghost Story of Christmas by Charles Dickens (265).txt 177758\n",
      "\n",
      "HW1_Dataset\\A History of Spanish Literature by James Fitzmaurice-Kelly (109).txt 765918\n",
      "\n",
      "HW1_Dataset\\A Modest Proposal by Jonathan Swift (233).txt 38966\n",
      "\n",
      "HW1_Dataset\\A Study in Scarlet by Arthur Conan Doyle (163).txt 262340\n",
      "\n",
      "HW1_Dataset\\A Tale of Two Cities by Charles Dickens (425).txt 776702\n",
      "\n",
      "HW1_Dataset\\Adventures of Huckleberry Finn by Mark Twain (401).txt 593962\n",
      "\n",
      "HW1_Dataset\\Alice in Wonderland by Lewis Carroll and Alice Gerstenberg (126).txt 104079\n",
      "\n",
      "HW1_Dataset\\Alice's Adventures in Wonderland by Lewis Carroll (564).txt 163817\n",
      "\n",
      "HW1_Dataset\\Anne of Green Gables by L. M.  Montgomery (114).txt 580635\n",
      "\n",
      "HW1_Dataset\\Autobiography of Benjamin Franklin by Benjamin Franklin (247).txt 458600\n",
      "\n",
      "HW1_Dataset\\Beowulf An Anglo-Saxon Epic Poem (403).txt 292953\n",
      "\n",
      "HW1_Dataset\\Beyond Good and Evil by Friedrich Wilhelm Nietzsche (120).txt 402273\n",
      "\n",
      "HW1_Dataset\\Candide by Voltaire (180).txt 224924\n",
      "\n",
      "HW1_Dataset\\Carmilla by Joseph Sheridan Le Fanu (135).txt 176408\n",
      "\n",
      "HW1_Dataset\\Common Sense by Thomas Paine (297).txt 145353\n",
      "\n",
      "HW1_Dataset\\Dracula by Bram Stoker (461).txt 867141\n",
      "\n",
      "HW1_Dataset\\Dubliners by James Joyce (219).txt 389199\n",
      "\n",
      "HW1_Dataset\\Emma by Jane Austen (166).txt 902390\n",
      "\n",
      "HW1_Dataset\\Essays by Ralph Waldo Emerson by Ralph Waldo Emerson (239).txt 557197\n",
      "\n",
      "HW1_Dataset\\Et dukkehjem. English by Henrik Ibsen (557).txt 161241\n",
      "\n",
      "HW1_Dataset\\Frankenstein; Or, The Modern Prometheus by Mary Wollstonecraft Shelley (501).txt 441034\n",
      "\n",
      "HW1_Dataset\\Great Expectations by Charles Dickens (293).txt 1013450\n",
      "\n",
      "HW1_Dataset\\Grimms' Fairy Tales by Jacob Grimm and Wilhelm Grimm (429).txt 540241\n",
      "\n",
      "HW1_Dataset\\Gulliver's Travels into Several Remote Nations of the World by Jonathan Swift (136).txt 600105\n",
      "\n",
      "HW1_Dataset\\Heart of Darkness by Joseph Conrad (213).txt 229835\n",
      "\n",
      "HW1_Dataset\\Hedda Gabler by Henrik Ibsen (123).txt 193875\n",
      "\n",
      "HW1_Dataset\\Il Principe. English by Niccolo虁 Machiavelli (428) (Unicode Encoding Conflict).txt 300788\n",
      "\n",
      "HW1_Dataset\\Jane Eyre_ An Autobiography by Charlotte Bronte虉 (290) (Unicode Encoding Conflict).txt 1049267\n",
      "\n",
      "HW1_Dataset\\Leaves of Grass by Walt Whitman (164).txt 757361\n",
      "\n",
      "HW1_Dataset\\Les Mise虂rables by Victor Hugo (165) (Unicode Encoding Conflict).txt 3254333\n",
      "\n",
      "HW1_Dataset\\Leviathan by Thomas Hobbes (417).txt 1231784\n",
      "\n",
      "HW1_Dataset\\Liberalism by L. T.  Hobhouse (119).txt 305345\n",
      "\n",
      "HW1_Dataset\\Metamorphosis by Franz Kafka (483).txt 139056\n",
      "\n",
      "HW1_Dataset\\Moby Dick; Or, The Whale by Herman Melville (413).txt 1238569\n",
      "\n",
      "HW1_Dataset\\My Fifteen Lost Years by Florence Elizabeth Maybrick (499).txt 383694\n",
      "\n",
      "HW1_Dataset\\My Secret Life, Volumes I. to III. by Anonymous (157).txt 1378627\n",
      "\n",
      "HW1_Dataset\\Narrative of the Captivity and Restoration of Mrs. Mary Rowlandson by Mary White Rowlandson (222).txt 123784\n",
      "\n",
      "HW1_Dataset\\Narrative of the Life of Frederick Douglass, an American Slave by Frederick Douglass (243).txt 244263\n",
      "\n",
      "HW1_Dataset\\On Liberty by John Stuart Mill (116).txt 325922\n",
      "\n",
      "HW1_Dataset\\Outpost in the Wilderness_ Fort Wayne, 1706-1828 by Charles Poinsatte (161).txt 363234\n",
      "\n",
      "HW1_Dataset\\Persuasion by Jane Austen (2234).txt 486251\n",
      "\n",
      "HW1_Dataset\\Peter Pan by J. M.  Barrie (274).txt 278194\n",
      "\n",
      "HW1_Dataset\\Prestuplenie i nakazanie. English by Fyodor Dostoyevsky (160).txt 1154508\n",
      "\n",
      "HW1_Dataset\\Pride and Prejudice by Jane Austen (1003).txt 704192\n",
      "\n",
      "HW1_Dataset\\Robert Greene by Robert Greene (126).txt 760655\n",
      "\n",
      "HW1_Dataset\\Semmering 1912 by Peter Altenberg (221).txt 264946\n",
      "\n",
      "HW1_Dataset\\Sense and Sensibility by Jane Austen (177).txt 693095\n",
      "\n",
      "HW1_Dataset\\Siddhartha by Hermann Hesse (216).txt 236855\n",
      "\n",
      "HW1_Dataset\\Songs of Innocence, and Songs of Experience by William Blake (166).txt 51724\n",
      "\n",
      "HW1_Dataset\\The Adventures of Sherlock Holmes by Arthur Conan Doyle (447).txt 581864\n",
      "\n",
      "HW1_Dataset\\The Adventures of Tom Sawyer by Mark Twain (371).txt 412712\n",
      "\n",
      "HW1_Dataset\\The Awakening, and Selected Short Stories by Kate Chopin (192).txt 378936\n",
      "\n",
      "HW1_Dataset\\The Boy Fortune Hunters in China by L. Frank  Baum (215).txt 324452\n",
      "\n",
      "HW1_Dataset\\The Boy Fortune Hunters in the South Seas by L. Frank  Baum (150).txt 266166\n",
      "\n",
      "HW1_Dataset\\The Complete Works of William Shakespeare by William Shakespeare (132).txt 5465100\n",
      "\n",
      "HW1_Dataset\\The Confessions of St. Augustine by Bishop of Hippo Saint Augustine (157).txt 622405\n",
      "\n",
      "HW1_Dataset\\The Count of Monte Cristo, Illustrated by Alexandre Dumas (160).txt 2643849\n",
      "\n",
      "HW1_Dataset\\The Divine Comedy by Dante, Illustrated by Dante Alighieri (119).txt 2161\n",
      "\n",
      "HW1_Dataset\\The Faery Queen and Her Knights by Alfred John Church (177).txt 447320\n",
      "\n",
      "HW1_Dataset\\The Federalist Papers by Alexander Hamilton and John Jay and James Madison (116).txt 1167141\n",
      "\n",
      "HW1_Dataset\\The Guardsman by Homer Greene (175).txt 412900\n",
      "\n",
      "HW1_Dataset\\The History of the Peloponnesian War by Thucydides (122).txt 1200021\n",
      "\n",
      "HW1_Dataset\\The Hound of the Baskervilles by Arthur Conan Doyle (223).txt 339188\n",
      "\n",
      "HW1_Dataset\\The Iliad by Homer (256).txt 1175588\n",
      "\n",
      "HW1_Dataset\\The Importance of Being Earnest_ A Trivial Comedy for Serious People by Oscar Wilde (454).txt 138887\n",
      "\n",
      "HW1_Dataset\\The Innocents Abroad by Mark Twain (108).txt 1126278\n",
      "\n",
      "HW1_Dataset\\The Interesting Narrative of the Life of Olaudah Equiano, Or Gustavus Vassa, The African by Equiano (114).txt 471165\n",
      "\n",
      "HW1_Dataset\\The Kama Sutra of Vatsyayana by Vatsyayana (172).txt 351664\n",
      "\n",
      "HW1_Dataset\\The King James Version of the Bible (132).txt 4351846\n",
      "\n",
      "HW1_Dataset\\The Law of Storms by John Wilson Ross (110).txt 65264\n",
      "\n",
      "HW1_Dataset\\The Legend of Sleepy Hollow by Washington Irving (399).txt 89237\n",
      "\n",
      "HW1_Dataset\\The Life and Adventures of Robinson Crusoe by Daniel Defoe (126).txt 642909\n",
      "\n",
      "HW1_Dataset\\The Mysterious Affair at Styles by Agatha Christie (115).txt 340770\n",
      "\n",
      "HW1_Dataset\\The Odyssey by Homer (124).txt 697404\n",
      "\n",
      "HW1_Dataset\\The Peddler Spy by W. J. Hamilton (356).txt 197390\n",
      "\n",
      "HW1_Dataset\\The Philosophy of Spiritual Activity by Rudolf Steiner (144).txt 545031\n",
      "\n",
      "HW1_Dataset\\The Picture of Dorian Gray by Oscar Wilde (282).txt 453169\n",
      "\n",
      "HW1_Dataset\\The Republic by Plato (246).txt 1214387\n",
      "\n",
      "HW1_Dataset\\The Romance of Lust_ A Classic Victorian erotic novel by Anonymous (294).txt 1051148\n",
      "\n",
      "HW1_Dataset\\The Scarlet Letter by Nathaniel Hawthorne (211).txt 506975\n",
      "\n",
      "HW1_Dataset\\The Souls of Black Folk by W. E. B.  Du Bois (172).txt 421336\n",
      "\n",
      "HW1_Dataset\\The Strange Case of Dr. Jekyll and Mr. Hyde by Robert Louis Stevenson (158).txt 158048\n",
      "\n",
      "HW1_Dataset\\The Strange Case of Dr. Jekyll and Mr. Hyde by Robert Louis Stevenson (170).txt 159542\n",
      "\n",
      "HW1_Dataset\\The Time Machine by H. G.  Wells (137).txt 198281\n",
      "\n",
      "HW1_Dataset\\The Tragedy of Romeo and Juliet by William Shakespeare (131).txt 174128\n",
      "\n",
      "HW1_Dataset\\The Tragical History of Doctor Faustus by Christopher Marlowe (144).txt 143736\n",
      "\n",
      "HW1_Dataset\\The Turn of the Screw by Henry James (185).txt 248089\n",
      "\n",
      "HW1_Dataset\\The Wendigo by Algernon Blackwood (174).txt 127464\n",
      "\n",
      "HW1_Dataset\\The Wonderful Wizard of Oz by L. Frank  Baum (150).txt 227654\n",
      "\n",
      "HW1_Dataset\\The Yellow Wallpaper by Charlotte Perkins Gilman (462).txt 50841\n",
      "\n",
      "HW1_Dataset\\Through the Looking-Glass by Lewis Carroll (134).txt 181667\n",
      "\n",
      "HW1_Dataset\\Treasure Island by Robert Louis Stevenson (236).txt 383675\n",
      "\n",
      "HW1_Dataset\\Ulysses by James Joyce (282).txt 1534140\n",
      "\n",
      "HW1_Dataset\\Uncle Tom's Cabin by Harriet Beecher Stowe (108).txt 1025501\n",
      "\n",
      "HW1_Dataset\\Walden, and On The Duty Of Civil Disobedience by Henry David Thoreau (180).txt 656207\n",
      "\n",
      "HW1_Dataset\\War and Peace by graf Leo Tolstoy (251).txt 3227580\n",
      "\n",
      "HW1_Dataset\\Wuthering Heights by Emily Bronte虉 (179) (Unicode Encoding Conflict).txt 669150\n",
      "\n"
     ]
    }
   ],
   "source": [
    "import glob\n",
    "# List all .txt files in the HW1_Dataset directory into a list of file names\n",
    "txt_files = glob.glob('HW1_Dataset/*.txt')\n",
    "# Compute the length of the content in each file\n",
    "dict_lengths = {}\n",
    "for file_path in txt_files:\n",
    "    with open(file_path, 'r', encoding='utf-8') as file:\n",
    "        content = file.read()\n",
    "        # Check if the file_path is already in the dictionary\n",
    "        if file_path in dict_lengths:\n",
    "            print(f\"Error: {file_path} is already in the dictionary\")\n",
    "        else:   \n",
    "            dict_lengths[file_path] = len(content)\n",
    "# Print each key value pair in the dictionary\n",
    "for key, value in dict_lengths.items():\n",
    "    print(f\"{key} {value}\\n\")"
   ]
  },
  {
   "cell_type": "markdown",
   "metadata": {},
   "source": [
    "**Subpart ii [5 pts].** Copy and paste your code from **subpart i** into the code cell below. Then in the code cell below, modify the code so that it prints out the top 15 longest books (in terms of raw string length, which is what you had already computed). In particular, please write your code so that the printout is of the following format:\n",
    "\n",
    "```\n",
    "1. <number of characters in longest text file> <filename of longest text file>\n",
    "2. <number of characters in 2nd longest text file> <filename of 2nd longest text file>\n",
    "...\n",
    "15. <number of characters in 15th longest text file> <filename of 15th longest text file>\n",
    "```\n",
    "\n",
    "Note: only print out information for the top 15 books in the format above; please do not repeat printing what we asked you to print in **subpart i**."
   ]
  },
  {
   "cell_type": "code",
   "execution_count": 46,
   "metadata": {},
   "outputs": [
    {
     "name": "stdout",
     "output_type": "stream",
     "text": [
      "1. 5465100 HW1_Dataset\\The Complete Works of William Shakespeare by William Shakespeare (132).txt\n",
      "\n",
      "2. 4351846 HW1_Dataset\\The King James Version of the Bible (132).txt\n",
      "\n",
      "3. 3254333 HW1_Dataset\\Les Mise虂rables by Victor Hugo (165) (Unicode Encoding Conflict).txt\n",
      "\n",
      "4. 3227580 HW1_Dataset\\War and Peace by graf Leo Tolstoy (251).txt\n",
      "\n",
      "5. 2643849 HW1_Dataset\\The Count of Monte Cristo, Illustrated by Alexandre Dumas (160).txt\n",
      "\n",
      "6. 1534140 HW1_Dataset\\Ulysses by James Joyce (282).txt\n",
      "\n",
      "7. 1378627 HW1_Dataset\\My Secret Life, Volumes I. to III. by Anonymous (157).txt\n",
      "\n",
      "8. 1238569 HW1_Dataset\\Moby Dick; Or, The Whale by Herman Melville (413).txt\n",
      "\n",
      "9. 1231784 HW1_Dataset\\Leviathan by Thomas Hobbes (417).txt\n",
      "\n",
      "10. 1214387 HW1_Dataset\\The Republic by Plato (246).txt\n",
      "\n",
      "11. 1200021 HW1_Dataset\\The History of the Peloponnesian War by Thucydides (122).txt\n",
      "\n",
      "12. 1175588 HW1_Dataset\\The Iliad by Homer (256).txt\n",
      "\n",
      "13. 1167141 HW1_Dataset\\The Federalist Papers by Alexander Hamilton and John Jay and James Madison (116).txt\n",
      "\n",
      "14. 1154508 HW1_Dataset\\Prestuplenie i nakazanie. English by Fyodor Dostoyevsky (160).txt\n",
      "\n",
      "15. 1126278 HW1_Dataset\\The Innocents Abroad by Mark Twain (108).txt\n",
      "\n"
     ]
    }
   ],
   "source": [
    "import glob\n",
    "# List all .txt files in the HW1_Dataset directory into a list of file names\n",
    "txt_files = glob.glob('HW1_Dataset/*.txt')\n",
    "# Compute the length of the content in each file\n",
    "dict_lengths = {}\n",
    "for file_path in txt_files:\n",
    "    with open(file_path, 'r', encoding='utf-8') as file:\n",
    "        content = file.read()\n",
    "        # Check if the file_path is already in the dictionary\n",
    "        if file_path in dict_lengths:\n",
    "            print(f\"Error: {file_path} is already in the dictionary\")\n",
    "        else:   \n",
    "            dict_lengths[file_path] = len(content)\n",
    "# Sort the dictionary by value in descending order\n",
    "sorted_dict_lengths = dict(sorted(dict_lengths.items(), key=lambda item: item[1], reverse=True))\n",
    "# Print the first 15 key value pair in the sorted dictionary\n",
    "number = 1\n",
    "for key, value in sorted_dict_lengths.items():\n",
    "    print(f\"{number}. {value} {key}\\n\")\n",
    "    number += 1\n",
    "    if number == 16:\n",
    "        break"
   ]
  },
  {
   "cell_type": "markdown",
   "metadata": {},
   "source": [
    "**Subpart iii [5 pts].** You should find that some of the books are quite long. Processing very long books will be problematic with spaCy, so we will want to chop up long books into pieces. Note that later on in the course, we shall see that chopping up large amounts of data into small pieces or \"batches\" is in fact quite common in machine learning since for massive datasets, we often cannot store them in their entirety on a CPU or GPU for processing all at once.\n",
    "\n",
    "As a toy example, suppose that a book's text is `'cat dog shark spam eggs'` and we want to split it up into batches where each batch has at most 3 words. Then we could split up the book's text into two batches/pieces: `'cat dog shark'` and `'spam eggs'`.\n",
    "\n",
    "We have provided code for you to do this below."
   ]
  },
  {
   "cell_type": "code",
   "execution_count": 47,
   "metadata": {},
   "outputs": [
    {
     "name": "stdout",
     "output_type": "stream",
     "text": [
      "['cat dog shark', 'spam eggs']\n"
     ]
    }
   ],
   "source": [
    "import numpy as np\n",
    "\n",
    "def split_into_batches(book_text, max_num_words_per_batch):\n",
    "    words_split_on_spaces = book_text.split(' ')\n",
    "    num_book_pieces = int(np.ceil(len(words_split_on_spaces) / max_num_words_per_batch))\n",
    "    batches = []\n",
    "    for piece_idx in range(num_book_pieces):\n",
    "        start_idx = piece_idx * max_num_words_per_batch\n",
    "        end_idx = (piece_idx + 1) * max_num_words_per_batch\n",
    "        if end_idx > len(words_split_on_spaces):\n",
    "            end_idx = len(words_split_on_spaces)\n",
    "        book_piece = ' '.join(words_split_on_spaces[start_idx:end_idx])\n",
    "        batches.append(book_piece)\n",
    "    return batches\n",
    "\n",
    "print(split_into_batches('cat dog shark spam eggs', 3))"
   ]
  },
  {
   "cell_type": "markdown",
   "metadata": {},
   "source": [
    "Now write a loop that goes through all 100 books again. However, for each book, split it up into batches so that each batch has at most 10000 words. In this case, how many batches are there total across all 100 books? Please write code that computes this number of batches. Your code should print out the following (with the correct total number of batches):\n",
    "\n",
    "```\n",
    "Total number of batches: <total number of batches across all 100 books>\n",
    "```"
   ]
  },
  {
   "cell_type": "code",
   "execution_count": 48,
   "metadata": {},
   "outputs": [
    {
     "name": "stdout",
     "output_type": "stream",
     "text": [
      "Total number of batches: 1178\n"
     ]
    }
   ],
   "source": [
    "import glob\n",
    "import numpy as np\n",
    "def count_batches_in_file(file_path, max_words_per_batch=10000) -> int:\n",
    "    with open(file_path, 'r', encoding='utf-8') as file:\n",
    "        content = file.read()\n",
    "        # Split the content into words\n",
    "        words = content.split()  \n",
    "        # Calculate number of batches needed for this file\n",
    "        return int(np.ceil(len(words) / max_words_per_batch))\n",
    "\n",
    "# Get all book files, assuming they're in the current directory and are txt files\n",
    "txt_files = glob.glob('HW1_Dataset/*.txt')\n",
    "total_batches = 0\n",
    "for file_path in txt_files:\n",
    "    batches = count_batches_in_file(file_path)\n",
    "    total_batches += batches\n",
    "\n",
    "print(f\"Total number of batches: {total_batches}\")"
   ]
  },
  {
   "cell_type": "markdown",
   "metadata": {},
   "source": [
    "**(b) [10 pts]** Now we will finally use spaCy. Note that for this problem, you don't actually need `spaCy`'s named entity recognition or grammatical parsing. Turning these elements off when you instantiate the `nlp` object can substantially speed up your code. To make sure these are off when instantiating the `nlp` object, call: \n",
    "\n",
    "```python\n",
    "nlp = spacy.load('en_core_web_sm', disable=['ner', 'parser'])\n",
    "```\n",
    "\n",
    "**Throughout this problem, do not remove stopwords.**\n",
    "\n",
    "Build a term frequency (raw counts) table that is for all 100 books. Specifically, building on your solution to part (a)-subpart iii, read in a single book at a time and for each book, do the following:\n",
    "\n",
    "  1. Split it up into batches where each batch has at most 10000 words.\n",
    "  2. For each batch:\n",
    "    1. Process the batch by separating and lemmatizing the words\n",
    "    2. Count the number of times each lemma appears and add these to the frequency table. For simplicity, **do not convert lemmas to lowercase**. (Note that we use raw counts as the \"frequency\"--do not do any division.) Also, as we explain below, we will only count lemmas that are alphabetic.\n",
    "\n",
    "Note that just as we had said in part (a): do **not** print out the complete contents of every book since doing so will result in a Jupyter notebook file that is massive.\n",
    "\n",
    "After looping through all 100 books, you should have the term frequency table for the entire corpus (importantly, the frequency table should not just be for a single book; it should be for all 100 books). Sort the table and print the top 50 most frequent words, along with their frequencies and ranks. Don't worry about ties (for example, if multiple things have the same frequency, it's fine if your solution breaks ties arbitrarily in the sorting).\n",
    "\n",
    "Note: When counting the lemmas, only include lemmas that consist of alphabetic letters (a-z and A-Z). You can do this with what's called a *regular expression*. For example, to check whether the words \"will.i.am\" or \"Tesla\" are alphabetic, you would do the following:\n",
    "\n",
    "```python\n",
    "import re  # regular expression package\n",
    "if re.match('[a-zA-Z]+$', 'will.i.am'):\n",
    "    print('will.i.am consists only of alphabetic letters!')\n",
    "if re.match('[a-zA-Z]+$', 'Tesla'):\n",
    "    print('tesla consists only of alphabetic letters!')\n",
    "```"
   ]
  },
  {
   "cell_type": "code",
   "execution_count": 49,
   "metadata": {},
   "outputs": [
    {
     "name": "stdout",
     "output_type": "stream",
     "text": [
      "1. 'the': 651301\n",
      "2. 'be': 406068\n",
      "3. 'and': 406031\n",
      "4. 'of': 350725\n",
      "5. 'to': 297256\n",
      "6. 'I': 243309\n",
      "7. 'a': 218184\n",
      "8. 'in': 188052\n",
      "9. 'he': 184981\n",
      "10. 'have': 147533\n",
      "11. 'that': 145705\n",
      "12. 'it': 125602\n",
      "13. 'his': 102301\n",
      "14. 'not': 101381\n",
      "15. 'you': 100923\n",
      "16. 'with': 95477\n",
      "17. 'for': 89870\n",
      "18. 'they': 88110\n",
      "19. 'as': 83733\n",
      "20. 'she': 78278\n",
      "21. 'but': 70190\n",
      "22. 'my': 70089\n",
      "23. 'do': 64856\n",
      "24. 'at': 61235\n",
      "25. 'on': 61202\n",
      "26. 'this': 56726\n",
      "27. 'say': 56224\n",
      "28. 'by': 55580\n",
      "29. 'all': 54893\n",
      "30. 'we': 54797\n",
      "31. 'which': 52693\n",
      "32. 'from': 46649\n",
      "33. 'or': 44318\n",
      "34. 'so': 43642\n",
      "35. 'her': 41557\n",
      "36. 'will': 38969\n",
      "37. 'one': 38138\n",
      "38. 'man': 36363\n",
      "39. 'no': 35713\n",
      "40. 'what': 35614\n",
      "41. 'there': 34972\n",
      "42. 'their': 33592\n",
      "43. 'go': 33096\n",
      "44. 'if': 32487\n",
      "45. 'when': 31797\n",
      "46. 'come': 31456\n",
      "47. 'see': 30373\n",
      "48. 'an': 30055\n",
      "49. 'would': 29564\n",
      "50. 'your': 28184\n"
     ]
    }
   ],
   "source": [
    "import spacy\n",
    "import glob\n",
    "import re\n",
    "import numpy as np\n",
    "from collections import Counter\n",
    "\n",
    "def process_text(text: str) -> list:\n",
    "    \"\"\" Process the text to tokenize and lemmatize using spaCy, filtering non-alphabetic words. \"\"\"\n",
    "    doc = nlp(text)\n",
    "    lemmas = [token.lemma_ for token in doc if re.match('^[a-zA-Z]+$', token.lemma_)]\n",
    "    return lemmas\n",
    "\n",
    "\n",
    "def split_into_batches(book_text, max_num_words_per_batch):\n",
    "    words_split_on_spaces = book_text.split(' ')\n",
    "    num_book_pieces = int(np.ceil(len(words_split_on_spaces) / max_num_words_per_batch))\n",
    "    batches = []\n",
    "    for piece_idx in range(num_book_pieces):\n",
    "        start_idx = piece_idx * max_num_words_per_batch\n",
    "        end_idx = (piece_idx + 1) * max_num_words_per_batch\n",
    "        if end_idx > len(words_split_on_spaces):\n",
    "            end_idx = len(words_split_on_spaces)\n",
    "        book_piece = ' '.join(words_split_on_spaces[start_idx:end_idx])\n",
    "        batches.append(book_piece)\n",
    "    return batches\n",
    "\n",
    "# Load the spaCy model\n",
    "nlp = spacy.load('en_core_web_sm', disable=['parser', 'ner'])\n",
    "# Get all book files, assuming they're in the current directory and are txt files\n",
    "txt_files = glob.glob('HW1_Dataset/*.txt')\n",
    "# Initialize a Counter object to store the frequency of lemmas\n",
    "frequency_table = Counter()\n",
    "\n",
    "# Process each book txt file\n",
    "for file_path in txt_files:\n",
    "    with open(file_path, 'r', encoding='utf-8') as file:\n",
    "        content = file.read()\n",
    "        # Divide the content into batches of 10000 words\n",
    "        batches = split_into_batches(content, 10000)\n",
    "        # Process each batch and update the frequency table\n",
    "        for batch in batches:\n",
    "            lemmas = process_text(batch)\n",
    "            frequency_table.update(lemmas)\n",
    "\n",
    "# Sort by frequency\n",
    "sorted_table = sorted(frequency_table.items(), key=lambda x: x[1], reverse=True)\n",
    "# Print top 50 most frequent words\n",
    "for rank, (lemma, freq) in enumerate(sorted_table[:50], start=1):\n",
    "    print(f\"{rank}. '{lemma}': {freq}\")"
   ]
  },
  {
   "cell_type": "markdown",
   "metadata": {},
   "source": [
    "**(c) [10 pts]** Visualize the frequency table by plotting a **raw scatter plot** (put frequency as the y-axis and rank as the x-axis), and a **log-log plot** (use logarithmic scales on both the x- and y- axes). Note that this should be for all words and not only the top 50. As before, for the ranks, do not worry about ties, i.e., break ties arbitrarily."
   ]
  },
  {
   "cell_type": "code",
   "execution_count": 50,
   "metadata": {},
   "outputs": [
    {
     "data": {
      "image/png": "[encoded data removed]",
      "text/plain": [
       "<Figure size 640x480 with 1 Axes>"
      ]
     },
     "metadata": {},
     "output_type": "display_data"
    }
   ],
   "source": [
    "import matplotlib.pyplot as plt\n",
    "\n",
    "# Extract frequencies and assign ranks\n",
    "frequencies = [freq for word, freq in sorted_table]\n",
    "ranks = list(range(1, len(frequencies) + 1))\n",
    "\n",
    "# Create the scatter plot\n",
    "plt.scatter(ranks, frequencies, color='blue', s=8)\n",
    "plt.title('Word Frequency by Rank')\n",
    "plt.xlabel('Rank')\n",
    "plt.ylabel('Frequency')\n",
    "plt.show()"
   ]
  },
  {
   "cell_type": "code",
   "execution_count": 51,
   "metadata": {},
   "outputs": [
    {
     "data": {
      "image/png": "[encoded data removed]",
      "text/plain": [
       "<Figure size 640x480 with 1 Axes>"
      ]
     },
     "metadata": {},
     "output_type": "display_data"
    }
   ],
   "source": [
    "import matplotlib.pyplot as plt\n",
    "\n",
    "# Extract frequencies and assign ranks\n",
    "frequencies = [np.log(freq) for word, freq in sorted_table]\n",
    "ranks = list(range(1, len(frequencies) + 1))\n",
    "\n",
    "# Create the scatter plot\n",
    "plt.scatter(ranks, frequencies, color='blue', s=8)\n",
    "plt.title('Word Frequency by Rank (Log Scale)')\n",
    "plt.xlabel('Log(Rank)')\n",
    "plt.ylabel('Log(Frequency)')\n",
    "# Set the x-axis and y-axis to log scale\n",
    "plt.xscale('log')\n",
    "plt.yscale('log')\n",
    "plt.show()"
   ]
  },
  {
   "cell_type": "markdown",
   "metadata": {},
   "source": [
    "**(d) [10 pts across subparts]** Let's now try to make sense of the very last plot in part **(c)**. Zipf's law states that term frequency is governed by a power law, i.e. the relationship between term frequency and rank can be approximated by $f(r) = cr^{-1}$, where $f(r)$ is the frequency of the term at rank $r$, $r$ is the rank of a term, and $c$ is a constant that is approximately 0.1*(corpus size) for English.\n",
    "\n",
    "Please answer the following questions:\n",
    "\n",
    "**Subpart i [2 pts].** What do you observe in the log-log plot above? Is this consist with the power law?"
   ]
  },
  {
   "cell_type": "markdown",
   "metadata": {},
   "source": [
    "(1) We observed that the plot exhibits a near-linear negative trend between the log of rand and log of frequency. We also observed deviations of the linear trend for high rank values.\n",
    "\n",
    "(2) According to Zipf's law, the log of the frequency of a word should be inversely proportional to the log of its rank, which is what we observed from the plot. The deviations occured for high rank values are probably natural based on the data sample we analyzed. Therefore, I think this is consistent with the power law. "
   ]
  },
  {
   "cell_type": "markdown",
   "metadata": {},
   "source": [
    "**Subpart ii [4 pts].** Think of the corpus as a (large) unigram bag of words. Following the analogy from lecture, imagine drawing a single word from this big bag (note that we are assuming that we've lemmatized the words and also filtered out non-alphabetic words; thus what remains in the bag are actually alphabetic lemmas). What is the probability of drawing one of the 4 most frequent alphabetic lemmas? What is the probability of drawing one of the 50 most frequent alphabetic lemmas? Answer these two questions using code rather than just entering in the final answers as numbers."
   ]
  },
  {
   "cell_type": "code",
   "execution_count": 52,
   "metadata": {},
   "outputs": [
    {
     "name": "stdout",
     "output_type": "stream",
     "text": [
      "Probability of drawing one of the 4 most frequent alphabetic lemmas: 16.11%\n",
      "Probability of drawing one of the 50 most frequent alphabetic lemmas: 48.31%\n"
     ]
    }
   ],
   "source": [
    "# Convert list of tuples into numpy array\n",
    "data = np.array(sorted_table, dtype=[('lemma', 'U10'), ('frequency', 'int')])\n",
    "# Calculate the total number of words in the corpus\n",
    "total_frequency = data['frequency'].sum()\n",
    "# Probability of drawing one of the 4 most frequent lemmas\n",
    "top_4_probability = (data['frequency'][:4].sum()) / total_frequency * 100\n",
    "# Probability of drawing one of the 50 most frequent lemmas\n",
    "top_50_probability = (data['frequency'][:50].sum()) / total_frequency * 100\n",
    "\n",
    "print(f'Probability of drawing one of the 4 most frequent alphabetic lemmas: {top_4_probability:.2f}%')\n",
    "print(f'Probability of drawing one of the 50 most frequent alphabetic lemmas: {top_50_probability:.2f}%')\n"
   ]
  },
  {
   "cell_type": "markdown",
   "metadata": {},
   "source": [
    "**Subpart iii [4 pts].** What proportion of the alphabetic lemmas occur only once? What proportion of the alphabetic lemmas occur fewer than 10 times?"
   ]
  },
  {
   "cell_type": "code",
   "execution_count": 53,
   "metadata": {
    "scrolled": true
   },
   "outputs": [
    {
     "name": "stdout",
     "output_type": "stream",
     "text": [
      "Proportion of the alphabetic lemmas occur only once: 42.81%\n",
      "Proportion of the alphabetic lemmas occur fewer than 10 times: 77.07%\n"
     ]
    }
   ],
   "source": [
    "# Filter for the words that occur only once\n",
    "data_once = data[data['frequency'] == 1]\n",
    "# Filter for the words that occur fewer than 10 times\n",
    "data_fewer_than_10 = data[data['frequency'] < 10]\n",
    "# Calculate the proportion\n",
    "proportion1 = len(data_once) / len(data) * 100\n",
    "proportion2 = len(data_fewer_than_10) / len(data) * 100\n",
    "\n",
    "print(f\"Proportion of the alphabetic lemmas occur only once: {proportion1:.2f}%\")\n",
    "print(f\"Proportion of the alphabetic lemmas occur fewer than 10 times: {proportion2:.2f}%\")\n"
   ]
  },
  {
   "cell_type": "markdown",
   "metadata": {},
   "source": [
    "### [Problem 2] Entity Recognition and Pointwise Mutual Information (PMI) [50 pts]\n",
    "By using the entity recognition system in `spaCy`, let's identify named entities from newspaper articles. You'll be using Reuters corpus which contains more than ten thousand newspaper articles. To run the code below, you need to download the Reuters dataset. To do so, in a terminal/command line (recall that you can open a terminal from Jupyter's webpage that shows all the files, which by default is [http://localhost:8888/tree](http://localhost:8888/tree)), start up Python and enter:\n",
    "\n",
    "```python\n",
    "import nltk\n",
    "nltk.download('reuters')\n",
    "```\n",
    "\n",
    "Then proceed to the problem subparts below.\n",
    "\n",
    "Note that in this problem you will need named entity recognition but not grammatical parsing. Hence, you will want to instantiate the nlp object by calling:\n",
    "\n",
    "```python\n",
    "nlp = spacy.load('en_core_web_sm', disable=['parser'])\n",
    "```\n"
   ]
  },
  {
   "cell_type": "code",
   "execution_count": 1,
   "metadata": {},
   "outputs": [
    {
     "name": "stderr",
     "output_type": "stream",
     "text": [
      "[nltk_data] Downloading package reuters to c:\\CMU\\95865\n",
      "[nltk_data]     UDA\\HW1\\.venv\\nltk_data...\n",
      "[nltk_data]   Package reuters is already up-to-date!\n"
     ]
    },
    {
     "data": {
      "text/plain": [
       "True"
      ]
     },
     "execution_count": 1,
     "metadata": {},
     "output_type": "execute_result"
    }
   ],
   "source": [
    "import nltk\n",
    "nltk.download('reuters')\n"
   ]
  },
  {
   "cell_type": "markdown",
   "metadata": {},
   "source": [
    "**(a) [15 pts]** Draw a bar chart in which one of the axes shows entity labels and the other shows the frequency of the corresponding label. Use the variables `reuters_nlp` and `label_counter` provided in the code below."
   ]
  },
  {
   "cell_type": "code",
   "execution_count": 3,
   "metadata": {},
   "outputs": [],
   "source": [
    "import matplotlib.pyplot as plt\n",
    "from collections import Counter\n",
    "from nltk.corpus import reuters\n",
    "import re\n",
    "import spacy\n",
    "\n",
    "nlp = spacy.load('en_core_web_sm', disable=['parser', 'tagger'])\n",
    "reuters_fileids = reuters.fileids()  # hint: when first debugging, consider looking at just the first few\n",
    "reuters_nlp = [nlp(re.sub(r'\\s+',' ', reuters.raw(i)).strip()) for i in reuters_fileids]\n",
    "label_counter = Counter()\n",
    "\n"
   ]
  },
  {
   "cell_type": "code",
   "execution_count": 10,
   "metadata": {},
   "outputs": [
    {
     "data": {
      "image/png": "[encoded data removed]",
      "text/plain": [
       "<Figure size 2000x800 with 1 Axes>"
      ]
     },
     "metadata": {},
     "output_type": "display_data"
    }
   ],
   "source": [
    "# Count the frequency of each entity type\n",
    "for doc in reuters_nlp:\n",
    "    for ent in doc.ents:\n",
    "        label_counter[ent.label_] += 1\n",
    "# Sort the Counter object by frequency\n",
    "label_counter = dict(sorted(label_counter.items(), key=lambda x: x[1], reverse=True))\n",
    "# Unpack the Counter object, label_counter, into two tuples\n",
    "labels, frequencies = zip(*label_counter.items())\n",
    "# Create bar chart\n",
    "plt.figure(figsize=(20, 8))\n",
    "plt.bar(labels, frequencies, color='blue')\n",
    "plt.xlabel('Entity Label')\n",
    "plt.ylabel('Frequency')\n",
    "plt.title('Frequency of Entity Labels in Reuters Corpus')\n",
    "plt.show()"
   ]
  },
  {
   "cell_type": "markdown",
   "metadata": {},
   "source": [
    "**(b) [15 pts]** Now list the top 10 most frequently occurring entities (entity text and the number of occurence) with label `ORG` (organization). Separately list the top 10 most frequently occurring entities with label `GPE` (geopolitical entity such as countries, cities, states) respectively. **In both cases, please convert the entity names to lowercase first before computing the top 10.**\n",
    "\n",
    "Here, when counting the (raw count) frequency, we need to count how many articles have an entity with the desired property. For every article, we add 1 if the article has the entity and 0 otherwise."
   ]
  },
  {
   "cell_type": "code",
   "execution_count": 27,
   "metadata": {},
   "outputs": [
    {
     "name": "stderr",
     "output_type": "stream",
     "text": [
      "c:\\CMU\\95865 UDA\\HW1\\.venv\\Lib\\site-packages\\spacy\\pipeline\\lemmatizer.py:211: UserWarning: [W108] The rule-based lemmatizer did not find POS annotation for one or more tokens. Check that your pipeline includes components that assign token.pos, typically 'tagger'+'attribute_ruler' or 'morphologizer'.\n",
      "  warnings.warn(Warnings.W108)\n"
     ]
    },
    {
     "name": "stdout",
     "output_type": "stream",
     "text": [
      "Top 10 most frequently occuriring entities with label ORG:\n",
      "1. cts: 2886\n",
      "2. cts net: 536\n",
      "3. reuters: 443\n",
      "4. net shr: 272\n",
      "5. the securities and exchange commission: 249\n",
      "6. ec: 238\n",
      "7. fed: 223\n",
      "8. treasury: 209\n",
      "9. usda: 181\n",
      "10. the u.s. agriculture department: 168\n",
      "\n",
      "Top 10 most frequently occuriring entities with label GPE:\n",
      "1. u.s.: 1607\n",
      "2. japan: 564\n",
      "3. the united states: 380\n",
      "4. u.k.: 302\n",
      "5. canada: 287\n",
      "6. new york: 255\n",
      "7. west germany: 238\n",
      "8. washington: 227\n",
      "9. london: 202\n",
      "10. brazil: 196\n"
     ]
    }
   ],
   "source": [
    "from collections import defaultdict\n",
    "\n",
    "# Initialize a dictionary where values are sets to store file ids\n",
    "org_articles = defaultdict(set)\n",
    "gpe_articles = defaultdict(set)\n",
    "org_opec_articles = defaultdict(set)\n",
    "org = 'ORG'\n",
    "gpe = 'GPE'\n",
    "# Process each article in the Reuters corpus (Citation: this for loop is adjusted based on ChatGPT's response)\n",
    "for file_id in reuters.fileids():\n",
    "    file_nlp = nlp(re.sub(r'\\s+',' ', reuters.raw(file_id)).strip())\n",
    "    for ent in file_nlp.ents:\n",
    "        # A set is used to ensure that each file id is only counted once per entity type\n",
    "        if ent.label_ == org:\n",
    "            if 'opec' in ent.text.lower():\n",
    "                org_opec_articles[ent.text.lower()].add(file_id)\n",
    "            org_articles[ent.text.lower()].add(file_id)\n",
    "        elif ent.label_ == gpe:\n",
    "            gpe_articles[ent.text.lower()].add(file_id)\n",
    "# Count how many articles are mention for each entity\n",
    "org_counts = {org: len(ids) for org, ids in org_articles.items()}\n",
    "gpe_counts = {gpe: len(ids) for gpe, ids in gpe_articles.items()}\n",
    "# Get top 10 entities sorted by the number of articles they appear in\n",
    "top_10_orgs = sorted(org_counts.items(), key=lambda item: item[1], reverse=True)[:10]\n",
    "top_10_gpes = sorted(gpe_counts.items(), key=lambda item: item[1], reverse=True)[:10]\n",
    "\n",
    "print(f\"Top 10 most frequently occuriring entities with label {org}:\")\n",
    "for rank, (org, count) in enumerate(top_10_orgs, start=1):\n",
    "    print(f\"{rank}. {org}: {count}\")\n",
    "print(f\"\\nTop 10 most frequently occuriring entities with label {gpe}:\")\n",
    "for rank, (gpe, count) in enumerate(top_10_gpes, start=1):\n",
    "    print(f\"{rank}. {gpe}: {count}\")\n"
   ]
  },
  {
   "cell_type": "markdown",
   "metadata": {},
   "source": [
    "**(c) [20 pts]** Give the top 50 `GPE` (countries, cities, states) entities that have the highest Pointwise Mutual Information (PMI) values with regard to the `ORG` (organization) entity **'opec'** (your list of this top 50 should be ranked in decreasing PMI value). Did you find any unexpected results? If so, why do you think it happened? If you found some of the results to be unsurprisingly, how come? **Just like in the previous part, please convert entity names to lowercase in your analysis.**\n",
    "\n",
    "Hint 1: As in lecture, when computing PMI, we will compute probabilities by counting the number of documents where entities occur or co-occur.  For example, $P('opec') = \\frac{number \\ \\ of \\ \\ documents \\ \\ containing \\ \\ 'opec'}{number \\ \\ of \\ \\ documents}$.  \n",
    "\n",
    "Hint 2: To compute this ranking, you do not have to compute the full PMI equation."
   ]
  },
  {
   "cell_type": "code",
   "execution_count": 37,
   "metadata": {},
   "outputs": [
    {
     "name": "stdout",
     "output_type": "stream",
     "text": [
      "Top 50 GPE entities with the highest PMI values with regard to the ORG entity 'opec':\n",
      "1. bpd: 10.227214804793292\n",
      "2. lajous: 10.227214804793292\n",
      "3. duri: 10.227214804793292\n",
      "4. trinidad-tobago: 10.227214804793292\n",
      "5. emirates: 10.227214804793292\n",
      "6. the lake charles: 10.227214804793292\n",
      "7. bethesda: 10.227214804793292\n",
      "8. franco-american: 10.227214804793292\n",
      "9. dd: 10.227214804793292\n",
      "10. dunham: 10.227214804793292\n",
      "11. gabon: 10.227214804793292\n",
      "12. el salado: 10.227214804793292\n",
      "13. aguarico: 10.227214804793292\n",
      "14. jubail: 10.227214804793292\n",
      "15. tripoli: 10.227214804793292\n",
      "16. doha: 10.227214804793292\n",
      "17. non-opec mexico: 10.227214804793292\n",
      "18. guayaquil: 10.227214804793292\n",
      "19. redoglia: 10.227214804793292\n",
      "20. java: 10.227214804793292\n",
      "21. carrington: 10.227214804793292\n",
      "22. materialy: 10.227214804793292\n",
      "23. vienna: 9.992749551156269\n",
      "24. riyadh: 9.905286709905928\n",
      "25. saudi arabia's: 9.686646423430588\n",
      "26. quito: 9.642252304072136\n",
      "27. caracas: 9.490249210627084\n",
      "28. qatar: 9.472327302629822\n",
      "29. dubai: 9.419859882735688\n",
      "30. kahan: 9.227214804793292\n",
      "31. petromin: 9.227214804793292\n",
      "32. oseberg: 9.227214804793292\n",
      "33. la: 9.227214804793292\n",
      "34. new york harbor: 9.227214804793292\n",
      "35. port jerome: 9.227214804793292\n",
      "36. nigeria: 9.149212292792019\n",
      "37. libya: 9.111737587373355\n",
      "38. ecuador: 9.089711281043355\n",
      "39. saudi arabia: 9.057289803350978\n",
      "40. kuwait: 8.937708187598306\n",
      "41. the united arab emirates: 8.828665428303015\n",
      "42. venezuela: 8.760088794365993\n",
      "43. kingdom: 8.642252304072136\n",
      "44. alexandria: 8.642252304072136\n",
      "45. jakarta: 8.642252304072136\n",
      "46. jamaica: 8.419859882735688\n",
      "47. gulf arab: 8.227214804793292\n",
      "48. lagos: 8.227214804793292\n",
      "49. san antonio: 8.227214804793292\n",
      "50. the united states': 7.905286709905929\n",
      "{'test/14891', 'test/19559'}\n"
     ]
    }
   ],
   "source": [
    "import numpy as np\n",
    "# Calculate the total number of documents in the Reuters corpus\n",
    "doc_count = len(reuters.fileids())\n",
    "# Calculate P(ORG) = Number of articles mentioning ORG entity 'opec' / Total number of articles\n",
    "p_opec = len(org_opec_articles) / doc_count\n",
    "\n",
    "# Calculate PMI values and rank\n",
    "pmi_values = {}\n",
    "for gpe in gpe_articles:\n",
    "    # Calculate P(GPE) = Number of articles mentioning GPE / Total number of articles\n",
    "    p_gpe = len(gpe_articles[gpe]) / doc_count\n",
    "    # Calculate P(GPE, ORG) = Number of articles mentioning both GPE and ORG / Total number of articles\n",
    "    p_opec_gpe = len(gpe_articles[gpe].intersection(org_articles['opec'])) / doc_count\n",
    "    # Calculate PMI(GPE, ORG) = log2(P(GPE, ORG) / (P(GPE) * P(ORG)))\n",
    "    if p_opec_gpe > 0:  # Avoid log(0)\n",
    "        pmi_values[gpe] = np.log2(p_opec_gpe / (p_opec * p_gpe))\n",
    "\n",
    "# Sort GPEs by PMI values in descending order\n",
    "pmi_values = sorted(pmi_values.items(), key=lambda item: item[1], reverse=True)\n",
    "top_50_pmi = pmi_values[:50]\n",
    "print(\"Top 50 GPE entities with the highest PMI values with regard to the ORG entity 'opec':\")\n",
    "for rank, (gpe, pmi) in enumerate(top_50_pmi, start=1):\n",
    "    print(f\"{rank}. {gpe}: {pmi}\")   \n",
    "with open('top_50_pmi.txt', 'w') as f:\n",
    "    for rank, (gpe, pmi) in enumerate(top_50_pmi, start=1):\n",
    "        f.write(f\"{rank}. {gpe}: {pmi}\\n\")"
   ]
  },
  {
   "cell_type": "markdown",
   "metadata": {},
   "source": [
    "Many results are not surprising since they are well-known for high oil production and are members of OPEC, which include countries like emirates, Saudi Arabia, UAE, ...\n",
    "However, some of the results are quite unexpected because they are not famous for oil production, such as the lake charles, Bethesda, san antonio, ... Many of them are cities in the united states, which probably also produce a lot of oil. As we can see, the united states are ranked at the last in the top 50 list. Based on the observations above, we can tell the the GPE entities include both countries and cities, which is why we see most of the \"unexpected results\" since they are not famous on their own for oil production."
   ]
  }
 ],
 "metadata": {
  "anaconda-cloud": {},
  "kernelspec": {
   "display_name": ".venv",
   "language": "python",
   "name": "python3"
  },
  "language_info": {
   "codemirror_mode": {
    "name": "ipython",
    "version": 3
   },
   "file_extension": ".py",
   "mimetype": "text/x-python",
   "name": "python",
   "nbconvert_exporter": "python",
   "pygments_lexer": "ipython3",
   "version": "3.12.3"
  }
 },
 "nbformat": 4,
 "nbformat_minor": 4
}
